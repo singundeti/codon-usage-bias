{
 "cells": [
  {
   "cell_type": "markdown",
   "id": "b05dd2d2",
   "metadata": {},
   "source": [
    "# Using Sequence Alignment and Statistical Methods to detect Gene Mutations and Codon Usage Bias\n",
    "\n",
    "Author: Sindhuja Gundeti \n",
    "Co-Author Coder: Thaddeus Gonzalez-Serna\n",
    "\n",
    "## About me\n",
    "Ever since the pandemic I've noticed discourse on misinformation which caught my attention. I researched the impacts of data missuse and ethicality, being a student in the 21st century I believe these concepts are integral to understanding the implications of technology and society. So far I've learned a lot of CSS techniques and data modeling tips, and have new found interest in probabilty on Excel. Computational science is a new field I'd want to enter because of how fast some questions can be answered with proper statistical methods. Although coding is a struggle for me I'm happy to learn new things through the resources the Internet provides and I hope through practice I can become a better coder. Since I'm most interested in data integrity It would be beneficial to dip my toes in different coding languages. "
   ]
  },
  {
   "cell_type": "markdown",
   "id": "e000d0b8",
   "metadata": {},
   "source": [
    "## Background\n",
    "This project was partered up with my classmate Thaddeus.\n",
    "Our project was started off on the question of what mutations had occurred when the COVID-SARS strain had transferred from bats to humans. Our initial understanding of nucleotides was that each nucleotide had a start and stop codon, and that three nucleotides can translate into a specific amino acid. We had gathered our different strains we wanted to compare: Bat and Human. The strains were collected from a reputable source in the NCBI database, the Bat originating in Russia and the Human one originating where the pandemic first started, Wuhan, China. While researching the impacts of the covid mutations and how it spread like wild-fire around the world, we came upon  a new concept we have never seen before called Codon Usage Bias. Codon Bias refers to the phenomenon where specific codons are used more often than other synonymous codons during translation of genes, the extent of which varies within and among species. Molecular evolutionary investigations suggest that codon bias is manifested as a result of balance between mutational and translational selection of such genes and that this phenomenon is widespread across species and may contribute to genome evolution in a significant manner.\n",
    "\n",
    "## Planned Methods\n",
    "\n",
    "Since our data will be in string form we need to input a parser function. But before that our project is heavily reliant on a hard-coded dictionary of specific codons. We will also be adding in our necessary imports beforehand. \n",
    "\n"
   ]
  },
  {
   "cell_type": "code",
   "execution_count": 3,
   "id": "eb9531dd",
   "metadata": {},
   "outputs": [],
   "source": [
    "from collections import Counter\n",
    "from typing import List, Any\n",
    "import pandas as pd\n",
    "import numpy as np\n",
    "import matplotlib.pyplot as plt"
   ]
  },
  {
   "cell_type": "markdown",
   "id": "0db35f0e",
   "metadata": {},
   "source": [
    "\n",
    "Now we hard-code our codon dictionary."
   ]
  },
  {
   "cell_type": "code",
   "execution_count": 4,
   "id": "b009fa84",
   "metadata": {},
   "outputs": [],
   "source": [
    "# Dictionary for Codon sequences that produce the same amino acid are in the same line\n",
    "\n",
    "\n",
    "codon_dict = {'uuu': 'phe', 'uuc': 'phe',  # phe\n",
    "              'uua': 'leu', 'uug': 'leu', 'cuu': 'leu', 'cuc': 'leu', 'cua': 'leu', 'cug': 'leu',  # leu\n",
    "              'ucu': 'ser', 'ucc': 'ser', 'uca': 'ser', 'ucg': 'ser', 'agu': 'ser', 'agc': 'ser',  # ser\n",
    "              'uau': 'tyr', 'uac': 'tyr',  # tyr\n",
    "              'ugu': 'cys', 'ugc': 'cys',  # cys\n",
    "              'ugg': 'trp',  # trp\n",
    "              'ccu': 'pro', 'ccc': 'pro', 'cca': 'pro', 'ccg': 'pro',  # pro\n",
    "              'cau': 'his', 'cac': 'his',  # his\n",
    "              'caa': 'gin', 'cag': 'gin',  # gin\n",
    "              'cgu': 'arg', 'cgc': 'arg', 'cga': 'arg', 'cgg': 'arg', 'aga': 'arg', 'agg': 'arg',  # arg\n",
    "              'auu': 'lle', 'auc': 'lle', 'aua': 'lle',  # lle\n",
    "              'aug': 'met',  # met\n",
    "              'acu': 'thr', 'acc': 'thr', 'aca': 'thr', 'acg': 'thr',  # thr\n",
    "              'aau': 'asn', 'aac': 'asn',  # asn\n",
    "              'aaa': 'lys', 'aag': 'lys',  # lys\n",
    "              'guu': 'val', 'guc': 'val', 'gua': 'val', 'gug': 'val',  # val\n",
    "              'gcu': 'ala', 'gcc': 'ala', 'gca': 'ala', 'gcg': 'ala',  # ala\n",
    "              'gau': 'asp', 'gac': 'asp',  # asp\n",
    "              'gaa': 'glu', 'gag': 'glu',  # glu\n",
    "              'ggu': 'gly', 'ggc': 'gly', 'gga': 'gly', 'ggg': 'gly',  # gly\n",
    "              'uaa': 'stop', 'uag': 'stop', 'uga': 'stop'  # stop\n",
    "              }"
   ]
  },
  {
   "cell_type": "markdown",
   "id": "3025e028",
   "metadata": {},
   "source": [
    "# Human and Bat strains\n",
    "The data we're going to use is \n",
    "Bat : https://www.ncbi.nlm.nih.gov/nuccore/2042764321\n",
    "Human : https://www.ncbi.nlm.nih.gov/nuccore/NC_045512.2?report=fasta\n",
    "from an NCBI databse. Although, we had to keep in mind that each strain did not have equal lengths so this would affect our statistical analysis. \n",
    "\n"
   ]
  },
  {
   "cell_type": "code",
   "execution_count": 8,
   "id": "fff0e36d",
   "metadata": {},
   "outputs": [],
   "source": [
    "# for this vignette we will only exercise a couple of lines because it is ridicously long.\n",
    "bat_sequence = \"TTTAAAATCTGTGTATCTGTCACTAGGCTGTATGCCCAGTGCATTTACGCAGTATAGCTTTTAAACCTTTACTGTCGTTGGCAGGACACGAGTAACTCGTCTATCTTCTGCAGGCTGCTTACGGTTTCGTCCGTGTTGCAGTCGATCATCAGCATACCTAGGTTTCGTCCGGGTGTGACCGAAAGGTAAGATGGAGAGCCTTGTCCCTGG\"\n",
    "human_sequence = \"ATTAAAGGTTTATACCTTCCCAGGTAACAAACCAACCAACTTTCGATCTCTTGTAGATCTGTTCTCTAAACGAACTTTAAAATCTGTGTGGCTGTCACTCGGCTGCATGCTTAGTGCACTCACGCAGTATAATTAATAACTAATTACTGTCGTTGACAGGACACGAGTAACTCGTCTATCTTCTGCAGGCTGCTTACGGTTTCGTCCGTG\"\n"
   ]
  },
  {
   "cell_type": "markdown",
   "id": "c7f3698e",
   "metadata": {},
   "source": [
    "# \n",
    "A problem that we ran into was realizing the strain lengths of each species were different and that would impact our statistical analysis, it is preferred to keep an error statistic (i.e we can use p = 0.01) \n",
    "#\n",
    "Now the next step is to code our counter methods. What this does is it takes account of the length a codon should be which is 3 nucleotides. \n"
   ]
  },
  {
   "cell_type": "code",
   "execution_count": 9,
   "id": "93751fc3",
   "metadata": {},
   "outputs": [],
   "source": [
    "def codon_counter(sequence):\n",
    "    \"\"\"\n",
    "    :param sequence:\n",
    "    :return Counter of :\n",
    "    \"\"\"\n",
    "    codon_list = []\n",
    "    for i in range(len(sequence) // 3):\n",
    "        index: int = i * 3\n",
    "        curr_sequence = sequence[index: index + 3].lower()\n",
    "\n",
    "        if curr_sequence in codon_dict:\n",
    "            codon_list.append(curr_sequence)\n",
    "    codon_count = Counter(codon_list)\n",
    "    return codon_count"
   ]
  },
  {
   "cell_type": "markdown",
   "id": "294cdc3c",
   "metadata": {},
   "source": [
    "# \n",
    "Then next we make our amino acid counter, which takes in the previous method and sorts them out using the hard-coded dictionary. "
   ]
  },
  {
   "cell_type": "code",
   "execution_count": 10,
   "id": "88f751dd",
   "metadata": {},
   "outputs": [],
   "source": [
    "def amino_acid_counter(sequence):\n",
    "    \"\"\"\n",
    "    :param sequence:\n",
    "    :return:\n",
    "    \"\"\"\n",
    "    amino_acid_list = []\n",
    "    for i in range(len(sequence) // 3):\n",
    "        index: int = i * 3\n",
    "        curr_sequence = sequence[index: index + 3].lower()\n",
    "\n",
    "        if curr_sequence in codon_dict:\n",
    "            amino_acid_list.append(codon_dict.get(curr_sequence.lower()))\n",
    "    amino_acid_count = Counter(amino_acid_list)\n",
    "    return amino_acid_count"
   ]
  },
  {
   "cell_type": "markdown",
   "id": "eb45a537",
   "metadata": {},
   "source": [
    "# Using our methods\n",
    "\n",
    "\n"
   ]
  },
  {
   "cell_type": "code",
   "execution_count": 11,
   "id": "b159854e",
   "metadata": {},
   "outputs": [],
   "source": [
    "# Get data \n",
    "codon_counts_human = codon_counter(human_sequence).most_common()\n",
    "amino_acid_counts_human = amino_acid_counter(human_sequence).most_common()\n",
    "\n",
    "codon_counts_bat = codon_counter(bat_sequence).most_common()\n",
    "amino_acid_counts_bat = amino_acid_counter(bat_sequence).most_common()\n"
   ]
  },
  {
   "cell_type": "markdown",
   "id": "6611c89b",
   "metadata": {},
   "source": [
    "# \n",
    "To get our data in compiled form where we can see the stats, use pandas to make a dataframe table. "
   ]
  },
  {
   "cell_type": "code",
   "execution_count": 12,
   "id": "8b04d1fa",
   "metadata": {},
   "outputs": [
    {
     "name": "stdout",
     "output_type": "stream",
     "text": [
      "Human Sequence Data\n",
      "   Codon  Occurrence\n",
      "0    aac           3\n",
      "1    acg           3\n",
      "2    aaa           2\n",
      "3    agg           2\n",
      "4    caa           2\n",
      "5    ccc           1\n",
      "6    acc           1\n",
      "7    aga           1\n",
      "8    cgg           1\n",
      "9    cac           1\n",
      "10   gca           1\n",
      "11   cag           1\n",
      "12   gac           1\n",
      "  Amino_Acid  Occurrence\n",
      "0        arg           4\n",
      "1        thr           4\n",
      "2        gin           3\n",
      "3        asn           3\n",
      "4        lys           2\n",
      "5        pro           1\n",
      "6        his           1\n",
      "7        ala           1\n",
      "8        asp           1\n",
      "Bat Sequence Data\n",
      "   Codon  Occurrence\n",
      "0    ggc           2\n",
      "1    cac           1\n",
      "2    cca           1\n",
      "3    cgc           1\n",
      "4    acc           1\n",
      "5    agg           1\n",
      "6    aca           1\n",
      "7    cga           1\n",
      "8    gca           1\n",
      "9    acg           1\n",
      "10   cag           1\n",
      "11   agc           1\n",
      "12   ggg           1\n",
      "13   gac           1\n",
      "  Amino_Acid  Occurrence\n",
      "0        arg           3\n",
      "1        thr           3\n",
      "2        gly           3\n",
      "3        his           1\n",
      "4        pro           1\n",
      "5        ala           1\n",
      "6        gin           1\n",
      "7        ser           1\n",
      "8        asp           1\n"
     ]
    }
   ],
   "source": [
    "# human data\n",
    "codon_counts_human_df = pd.DataFrame.from_dict(codon_counts_human)\n",
    "codon_counts_human_df.columns = ['Codon', 'Occurrence']\n",
    "\n",
    "amino_acid_counts_human_df = pd.DataFrame.from_dict(amino_acid_counts_human)\n",
    "amino_acid_counts_human_df.columns = ['Amino_Acid', 'Occurrence']\n",
    "\n",
    "print(\"Human Sequence Data\")\n",
    "print(codon_counts_human_df)\n",
    "print(amino_acid_counts_human_df)\n",
    "\n",
    "# bat data\n",
    "codon_counts_bat_df = pd.DataFrame.from_dict(codon_counts_bat)\n",
    "codon_counts_bat_df.columns = ['Codon', 'Occurrence']\n",
    "\n",
    "amino_acid_counts_bat_df  = pd.DataFrame.from_dict(amino_acid_counts_bat)\n",
    "amino_acid_counts_bat_df.columns = ['Amino_Acid','Occurrence']\n",
    "\n",
    "print(\"Bat Sequence Data\")\n",
    "print(codon_counts_bat_df)\n",
    "print(amino_acid_counts_bat_df)"
   ]
  },
  {
   "cell_type": "markdown",
   "id": "882733d5",
   "metadata": {},
   "source": [
    "# Statistical Analysis\n",
    "Now that we found a way to quickly read and sort codons/nucleotides, we can make inferences about about the differences in amino acid occurrences. \n"
   ]
  },
  {
   "cell_type": "markdown",
   "id": "343c8f36",
   "metadata": {},
   "source": [
    "# Refrences\n",
    "\n",
    "Behura SK, Severson DW. Codon usage bias: causative factors, quantification methods and genome-wide patterns: with emphasis on insect genomes. Biol Rev Camb Philos Soc. 2013 Feb;88(1):49-61. doi: 10.1111/j.1469-185X.2012.00242.x. Epub 2012 Aug 14. PMID: 22889422.\n",
    "\n",
    "https://doi.org/10.1016/j.accpm.2021.100998\n",
    "Ferré, V. M., Peiffer-Smadja, N., Visseaux, B., Descamps, D., Ghosn, J., & Charpentier, C. (2021). Omicron SARS-CoV-2 variant: What we know and what we don't. Anaesthesia, critical care & pain medicine, 41(1), 100998. Advance online publication. \n",
    "\n",
    "https://www.bioinformatics.org/sms2/codon_usage.html\n",
    "This website was used as a reference point, it also contained an amino-acid counter.\n",
    "\n",
    "I would like to thank my partner Thaddeus Gonzalez for helping me code and the implementation our project. "
   ]
  },
  {
   "cell_type": "code",
   "execution_count": null,
   "id": "454b6dfa",
   "metadata": {},
   "outputs": [],
   "source": []
  }
 ],
 "metadata": {
  "kernelspec": {
   "display_name": "Python 3 (ipykernel)",
   "language": "python",
   "name": "python3"
  },
  "language_info": {
   "codemirror_mode": {
    "name": "ipython",
    "version": 3
   },
   "file_extension": ".py",
   "mimetype": "text/x-python",
   "name": "python",
   "nbconvert_exporter": "python",
   "pygments_lexer": "ipython3",
   "version": "3.9.7"
  }
 },
 "nbformat": 4,
 "nbformat_minor": 5
}
